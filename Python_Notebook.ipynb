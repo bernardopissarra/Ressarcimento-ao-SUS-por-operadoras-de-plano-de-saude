{
  "nbformat": 4,
  "nbformat_minor": 0,
  "metadata": {
    "colab": {
      "provenance": []
    },
    "kernelspec": {
      "name": "python3",
      "display_name": "Python 3"
    },
    "language_info": {
      "name": "python"
    }
  },
  "cells": [
    {
      "cell_type": "markdown",
      "source": [
        "Importação de bibliotecas/Importing libraries\n",
        "\n"
      ],
      "metadata": {
        "id": "qHSLJ2ImrhLX"
      }
    },
    {
      "cell_type": "code",
      "execution_count": 1,
      "metadata": {
        "id": "8GKt8KqBqrYh"
      },
      "outputs": [],
      "source": [
        "import numpy as np\n",
        "import pandas as pd\n",
        "from google.colab import drive"
      ]
    },
    {
      "cell_type": "markdown",
      "source": [
        "Configuração do google drive como fonte de dados/ Setting up Google Drive as a data source"
      ],
      "metadata": {
        "id": "PEN8GEmurcLg"
      }
    },
    {
      "cell_type": "code",
      "source": [
        "drive.mount('/content/drive', force_remount=True)\n",
        "path = '/content/drive/My Drive/TCC/Basededados/'"
      ],
      "metadata": {
        "id": "nmnWOt6drbjY"
      },
      "execution_count": null,
      "outputs": []
    },
    {
      "cell_type": "markdown",
      "source": [
        "# Base 1: Dados do Ressarcimento ao SUS por Beneficiário Identificado e ABI\n",
        "# Base 2: Dados do Ressarcimento ao SUS por Operadora de Planos de Saúde:"
      ],
      "metadata": {
        "id": "XjMnQnskszBy"
      }
    },
    {
      "cell_type": "markdown",
      "source": [
        "Carregar dados/ Data Load"
      ],
      "metadata": {
        "id": "fU-gN98nr_46"
      }
    },
    {
      "cell_type": "code",
      "source": [
        "#Dados de 2016 até 2021/09\n",
        "\n",
        "base1.2016 = pd.read_csv(path+'benef_ident_SUS_ABI_2016.csv', sep =\";\")\n",
        "base1.2017 = pd.read_csv(path+'benef_ident_SUS_ABI_2017.csv', sep =\";\")\n",
        "base1.2018 = pd.read_csv(path+'benef_ident_SUS_ABI_2018.csv', sep =\";\")\n",
        "base1.2019 = pd.read_csv(path+'benef_ident_SUS_ABI_2019.csv', sep =\";\")\n",
        "base1.2020 = pd.read_csv(path+'benef_ident_SUS_ABI_2020.csv', sep =\";\")\n",
        "base1.2021 = pd.read_csv(path+'benef_ident_SUS_ABI_2021.csv', sep =\";\")\n",
        "\n",
        "base2.2016 = pd.read_csv(path+'ressarcimento_SUS_operadora_planos_2016.csv', sep =\";\", encoding='ISO-8859-1')\n",
        "base2.2017 = pd.read_csv(path+'ressarcimento_SUS_operadora_planos_2017.csv', sep =\";\", encoding='ISO-8859-1')\n",
        "base2.2018 = pd.read_csv(path+'ressarcimento_SUS_operadora_planos_2018.csv', sep =\";\", encoding='ISO-8859-1')\n",
        "base2.2019 = pd.read_csv(path+'ressarcimento_SUS_operadora_planos_2019.csv', sep =\";\", encoding='ISO-8859-1')\n",
        "base2.2020 = pd.read_csv(path+'ressarcimento_SUS_operadora_planos_2020.csv', sep =\";\", encoding='ISO-8859-1')\n",
        "base2.2021 = pd.read_csv(path+'ressarcimento_SUS_operadora_planos_2021.csv', sep =\";\", encoding='ISO-8859-1')"
      ],
      "metadata": {
        "id": "VbzV5HPIsFRo"
      },
      "execution_count": null,
      "outputs": []
    },
    {
      "cell_type": "code",
      "source": [
        "#Na base 2, drop de colunas que se repetem, menos num atendimento(key).\n",
        "base2.2016.drop(['COMPETENCIA','ABI', 'TIPO_ATENDIMENTO', 'CD_CNES',\n",
        "                 'DATA_ATUALIZACAO_ARQUIVO', 'REGISTRO_OPERADORA' ],axis=1, inplace=True)\n",
        "base2.2017.drop(['COMPETENCIA','ABI', 'TIPO_ATENDIMENTO', 'CD_CNES',\n",
        "                 'DATA_ATUALIZACAO_ARQUIVO', 'REGISTRO_OPERADORA' ],axis=1, inplace=True)\n",
        "base2.2018.drop(['COMPETENCIA','ABI', 'TIPO_ATENDIMENTO', 'CD_CNES',\n",
        "                 'DATA_ATUALIZACAO_ARQUIVO', 'REGISTRO_OPERADORA' ],axis=1, inplace=True)\n",
        "base2.2019.drop(['COMPETENCIA','ABI', 'TIPO_ATENDIMENTO', 'CD_CNES',\n",
        "                 'DATA_ATUALIZACAO_ARQUIVO', 'REGISTRO_OPERADORA' ],axis=1, inplace=True)\n",
        "base2.2020.drop(['COMPETENCIA','ABI', 'TIPO_ATENDIMENTO', 'CD_CNES',\n",
        "                 'DATA_ATUALIZACAO_ARQUIVO', 'REGISTRO_OPERADORA' ],axis=1, inplace=True)\n",
        "base2.2021.drop(['COMPETENCIA','ABI', 'TIPO_ATENDIMENTO', 'CD_CNES',\n",
        "                 'DATA_ATUALIZACAO_ARQUIVO', 'REGISTRO_OPERADORA' ],axis=1, inplace=True)"
      ],
      "metadata": {
        "id": "DxUZ97_vsJfC"
      },
      "execution_count": null,
      "outputs": []
    },
    {
      "cell_type": "code",
      "source": [
        "#Merge entre base 1 e 2, por ano:\n",
        "\n",
        "basefinal.2016 = base1.2016.merge(base2.2016, on='NUM_ATENDIMENTO')\n",
        "basefinal.2017 = base1.2017.merge(base2.2017, on='NUM_ATENDIMENTO')\n",
        "basefinal.2018 = base1.2018.merge(base2.2018, on='NUM_ATENDIMENTO')\n",
        "basefinal.2019 = base1.2019.merge(base2.2019, on='NUM_ATENDIMENTO')\n",
        "basefinal.2020 = base1.2020.merge(base2.2020, on='NUM_ATENDIMENTO')\n",
        "basefinal.2021 = base1.2021.merge(base2.2021, on='NUM_ATENDIMENTO')\n",
        "\n",
        "#Concatenação dos 6 anos\n",
        "\n",
        "frames = [basefinal.2016, basefinal.2017, basefinal.2018,\n",
        "          basefinal.2019, basefinal.2020, basefinal.2021]\n",
        "basefinal = pd.concat(frames)"
      ],
      "metadata": {
        "id": "Q7A3x-CIsMYl"
      },
      "execution_count": null,
      "outputs": []
    },
    {
      "cell_type": "code",
      "source": [
        "#Geração de dummies (normalização da variável SEXO_BENEFICIARIO)\n",
        "base2 = pd.get_dummies(base['SEXO_BENEFICIARIO'])"
      ],
      "metadata": {
        "id": "djQcH8H3sSRh"
      },
      "execution_count": null,
      "outputs": []
    },
    {
      "cell_type": "code",
      "source": [
        "#Concatenação para inserção dos dummies\n",
        "base = pd.concat((base, base2), axis=1)\n",
        "base.head()"
      ],
      "metadata": {
        "id": "cggA7Y37sU3n"
      },
      "execution_count": null,
      "outputs": []
    },
    {
      "cell_type": "code",
      "source": [
        "#Drop da variável referente ao sexo masculino (Não há necessidade de uma variável para masculino e outra feminino)\n",
        "base = base.drop(['M'], axis=1)"
      ],
      "metadata": {
        "id": "_Wi3ggWesdAu"
      },
      "execution_count": null,
      "outputs": []
    },
    {
      "cell_type": "code",
      "source": [
        "#Exportação da base\n",
        "base.to_csv('base.csv')\n",
        "!cp base.csv \"drive/My Drive/\""
      ],
      "metadata": {
        "id": "jBulq4RAslIj"
      },
      "execution_count": null,
      "outputs": []
    },
    {
      "cell_type": "markdown",
      "source": [
        "# Base 3: Dados de pagamento do Ressarcimento ao SUS por operadora:"
      ],
      "metadata": {
        "id": "Ha_qvvQ6tNkM"
      }
    },
    {
      "cell_type": "code",
      "source": [
        "#Importação da Base 3 Dados de pagamento do Ressarcimento ao SUS por operadora (janeiro de 2016 a setembro de 2022)\n",
        "base1 = pd.read_csv(path+'2016_Indice_de_Efetivo_Pagamento(2).csv', sep =\";\", encoding='ISO-8859-1')\n",
        "base2 = pd.read_csv(path+'2017_Indice_de_Efetivo_Pagamento.csv', sep =\";\", encoding='ISO-8859-1')\n",
        "base3 = pd.read_csv(path+'2018_Indice_de_Efetivo_Pagamento.csv', sep =\";\", encoding='ISO-8859-1')\n",
        "base4 = pd.read_csv(path+'2019_Indice_de_Efetivo_Pagamento.csv', sep =\";\", encoding='ISO-8859-1')\n",
        "base5 = pd.read_csv(path+'202001_Indice_de_Efetivo_Pagamento.csv', sep =\";\", encoding='ISO-8859-1')\n",
        "base6 = pd.read_csv(path+'202002_Indice_de_Efetivo_Pagamento.csv', sep =\";\", encoding='ISO-8859-1')\n",
        "base7 = pd.read_csv(path+'202003_Indice_de_Efetivo_Pagamento.csv', sep =\";\", encoding='ISO-8859-1')\n",
        "base8 = pd.read_csv(path+'202004_Indice_de_Efetivo_Pagamento.csv', sep =\";\", encoding='ISO-8859-1')\n",
        "base9 = pd.read_csv(path+'202005_Indice_de_Efetivo_Pagamento.csv', sep =\";\", encoding='ISO-8859-1')\n",
        "base10 = pd.read_csv(path+'202006_Indice_de_Efetivo_Pagamento.csv', sep =\";\", encoding='ISO-8859-1')\n",
        "base11 = pd.read_csv(path+'202007_Indice_de_Efetivo_Pagamento.csv', sep =\";\", encoding='ISO-8859-1')\n",
        "base12 = pd.read_csv(path+'202008_Indice_de_Efetivo_Pagamento.csv', sep =\";\", encoding='ISO-8859-1')\n",
        "base13 = pd.read_csv(path+'202009_Indice_de_Efetivo_Pagamento.csv', sep =\";\", encoding='ISO-8859-1')\n",
        "base14 = pd.read_csv(path+'202010_Indice_de_Efetivo_Pagamento.csv', sep =\";\", encoding='ISO-8859-1')\n",
        "base15 = pd.read_csv(path+'202011_Indice_de_Efetivo_Pagamento.csv', sep =\";\", encoding='ISO-8859-1')\n",
        "base16 = pd.read_csv(path+'202012_Indice_de_Efetivo_Pagamento.csv', sep =\";\", encoding='ISO-8859-1')\n",
        "base17 = pd.read_csv(path+'202101_Indice_de_Efetivo_Pagamento.csv', sep =\";\", encoding='ISO-8859-1')\n",
        "base18 = pd.read_csv(path+'202102_Indice_de_Efetivo_Pagamento.csv', sep =\";\", encoding='ISO-8859-1')\n",
        "base19 = pd.read_csv(path+'202103_Indice_de_Efetivo_Pagamento.csv', sep =\";\", encoding='ISO-8859-1')\n",
        "base20 = pd.read_csv(path+'202104_Indice_de_Efetivo_Pagamento.csv', sep =\";\", encoding='ISO-8859-1')\n",
        "base21 = pd.read_csv(path+'202105_Indice_de_Efetivo_Pagamento.csv', sep =\";\", encoding='ISO-8859-1')\n",
        "base22 = pd.read_csv(path+'202106_Indice_de_Efetivo_Pagamento.csv', sep =\";\", encoding='ISO-8859-1')\n",
        "base23 = pd.read_csv(path+'202107_Indice_de_Efetivo_Pagamento.csv', sep =\";\", encoding='ISO-8859-1')\n",
        "base24 = pd.read_csv(path+'202108_Indice_de_Efetivo_Pagamento.csv', sep =\";\", encoding='ISO-8859-1')\n",
        "base25 = pd.read_csv(path+'202109_Indice_de_Efetivo_Pagamento.csv', sep =\";\", encoding='ISO-8859-1')\n",
        "base26 = pd.read_csv(path+'202110_Indice_de_Efetivo_Pagamento.csv', sep =\";\", encoding='ISO-8859-1')\n",
        "base27 = pd.read_csv(path+'202111_Indice_de_Efetivo_Pagamento.csv', sep =\";\", encoding='ISO-8859-1')\n",
        "base28 = pd.read_csv(path+'202112_Indice_de_Efetivo_Pagamento.csv', sep =\";\", encoding='ISO-8859-1')\n",
        "base29 = pd.read_csv(path+'202201_Indice_de_Efetivo_Pagamento.csv', sep =\";\", encoding='ISO-8859-1')\n",
        "base30 = pd.read_csv(path+'202202_Indice_de_Efetivo_Pagamento.csv', sep =\";\", encoding='ISO-8859-1')\n",
        "base31 = pd.read_csv(path+'202203_Indice_de_Efetivo_Pagamento.csv', sep =\";\", encoding='ISO-8859-1')\n",
        "base32 = pd.read_csv(path+'202204_Indice_de_Efetivo_Pagamento.csv', sep =\";\", encoding='ISO-8859-1')\n",
        "base33 = pd.read_csv(path+'202205_Indice_de_Efetivo_Pagamento.csv', sep =\";\", encoding='ISO-8859-1')\n",
        "base34 = pd.read_csv(path+'202206_Indice_de_Efetivo_Pagamento.csv', sep =\";\", encoding='ISO-8859-1')\n",
        "base35 = pd.read_csv(path+'202207_Indice_de_Efetivo_Pagamento.csv', sep =\";\", encoding='ISO-8859-1')\n",
        "base36 = pd.read_csv(path+'202208_Indice_de_Efetivo_Pagamento.csv', sep =\";\", encoding='ISO-8859-1')\n",
        "base37 = pd.read_csv(path+'202209_Indice_de_Efetivo_Pagamento.csv', sep =\";\", encoding='ISO-8859-1')\n"
      ],
      "metadata": {
        "id": "NpR4LCZTtP3G"
      },
      "execution_count": null,
      "outputs": []
    },
    {
      "cell_type": "code",
      "source": [
        "#concatenação das bases\n",
        "frames = [base1, base2, base3, base4, base5, base6, base7, base8, base9, base10, base11,\n",
        "          base12, base13, base14, base15, base16, base17, base18, base19,base20, base21,\n",
        "          base22, base23, base24, base25, base26, base27, base28, base29, base30, base31,\n",
        "          base32, base33, base34, base35, base36, base37]\n",
        "base = pd.concat(frames)"
      ],
      "metadata": {
        "id": "vWAMGKF5tfsl"
      },
      "execution_count": null,
      "outputs": []
    },
    {
      "cell_type": "code",
      "source": [
        "#Remoção de colunas indesejadas\n",
        "base.drop(['VALOR_PAGO_ACUMULADO_5ANOS','VALOR_PARCELADO_ACUMULADO_5ANOS', 'VALOR_COBRADO_ACUMULADO_5ANOS',\n",
        "           'INDICE_ADIMPLENCIA_5ANOS', 'INDICE_ADIMPLENCIA','DT_ATUALIZACAO' ],axis=1, inplace=True)"
      ],
      "metadata": {
        "id": "LkUyO-E_tokp"
      },
      "execution_count": null,
      "outputs": []
    },
    {
      "cell_type": "code",
      "source": [
        "#Ajuste de Datatype\n",
        "base['COMPETENCIA'] = base['COMPETENCIA'].str.replace('/','-')\n",
        "base['COMPETENCIA'] = base['COMPETENCIA'].astype('datetime64')\n"
      ],
      "metadata": {
        "id": "v2ZXbvlutqzK"
      },
      "execution_count": null,
      "outputs": []
    },
    {
      "cell_type": "code",
      "source": [
        "#Exportação\n",
        "base.to_csv('baseiep.csv')\n",
        "!cp baseiep.csv \"drive/My Drive/\""
      ],
      "metadata": {
        "id": "QuQHk6XCtwCA"
      },
      "execution_count": null,
      "outputs": []
    }
  ]
}